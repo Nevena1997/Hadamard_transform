{
 "cells": [
  {
   "cell_type": "markdown",
   "metadata": {
    "id": "vIGYpEoAf3FG"
   },
   "source": [
    "# Kvantna Hadamardova transformacija\n",
    "\n",
    "Hadamardova transformacija ima takođe jako bitne primene i u oblasti kvantnog računarstva. Hadamardova matrica dimenzija $2 \\times 2$ predstavlja jednu od osnovnih kvantnih operacija koje se mogu primeniti na jednom kjubitu (kjubit je analogon bita u kvantnom računarstvu) i ključan je sastojak mnogih kvantnih algoritama.\n",
    "\n",
    "\n",
    "## Kvantna stanja\n",
    "\n",
    "Da bismo objasnili kako Hadamardova transformacija deluje na registar kjubita moramo prvo objasniti Dirakovu notaciju koja se koristi za opisivanje stanja kvantnog registra. Kao i klasični bit, kjubit može biti u stanju 0 koje se u Dirakovoj notaciji obeležava sa $|0\\rangle$ i u stanju 1 kojem odgovara $|1\\rangle$. Za razliku od bita kome su 0 i 1 dve međusobno isključive vrednosti, kjubit može biti i u superpoziciji stanja $|0\\rangle$ i $|1\\rangle$. Ovo praktično znači da su $|0\\rangle$ i $|1\\rangle$ dva ortogonalna vektora i da je stanje kjubita linearna kombinacija ova dva vektora. Dakle, stanje kjubita se može zapisati kao $|\\psi\\rangle = \\alpha|0\\rangle + \\beta|1\\rangle$ gde su $\\alpha$ i $\\beta$ kompleksni brojevi, pri čemu se zahteva i uslov normalizacije $|\\alpha|^2 + |\\beta|^2 = 1$. Takođe, umesto Dirakove notacije možemo koristiti i vektore za opis kvantnih stanja gde bismo izvršili sledeću identifikaciju\n",
    "\n",
    "$$\n",
    "|0\\rangle = \\begin{pmatrix}1\\\\0\\end{pmatrix}, |1\\rangle = \\begin{pmatrix}0\\\\1\\end{pmatrix},\n",
    "$$\n",
    "\n",
    "pa bi stanje kjubita u vektorskom obliku bilo zapisano kao\n",
    "\n",
    "$$\n",
    "|\\psi\\rangle = \\begin{pmatrix}\\alpha\\\\\\beta\\end{pmatrix}.\n",
    "$$\n",
    "U Dirakovoj notaciji $\\langle\\psi|$ je element dualnog vektorskog prostora i svodi se na transponovanje i konjugovanje vektora $|\\psi\\rangle$, tj. $\\langle\\psi| = \\begin{pmatrix}\\alpha^* & \\beta^*\\end{pmatrix}$.\n",
    "\n",
    "Da bismo opisali više od jednog kjubita, koristimo tenzorski proizvod. Na primer, ako imamo registar od dva kjubita od kojih je prvi u stanju $|1\\rangle$ dok je drugi u stanju $|0\\rangle$, stanje ova dva kjubita možemo zapisati kao $|\\psi\\rangle = |1\\rangle\\otimes|0\\rangle$ (skraćeno $|\\psi\\rangle = |10\\rangle = |2\\rangle$), ili u vektorskom obliku \n",
    "\n",
    "$$\n",
    "|\\psi\\rangle = |1\\rangle\\otimes|0\\rangle = \\begin{pmatrix}0\\\\1\\end{pmatrix}\\otimes\\begin{pmatrix}1\\\\0\\end{pmatrix} = \\begin{pmatrix}0\\\\0\\\\1\\\\0\\end{pmatrix}.\n",
    "$$\n",
    "Naravno, moguće je napraviti superpoziciju elemenata i u ovom većem vektorskom prostoru pa je stanje dva kjubita u opštem slučaju dato sa\n",
    "\n",
    "$$\n",
    "|\\psi\\rangle = \\sum_{i = 0}^3\\alpha_i|i\\rangle = \\begin{pmatrix}\\alpha_0\\\\\\alpha_1\\\\\\alpha_2\\\\\\alpha_3\\end{pmatrix},\n",
    "$$\n",
    "pri čemu $\\sum_{i = 0}^3|\\alpha_i|^2 = 1$. U slučaju $n$ kjubita stanje je dato vektorom $|\\psi\\rangle = \\sum_{i = 0}^{2^n - 1}\\alpha_i|i\\rangle$, pri čemu $\\sum_{i = 0}^{2^n - 1}|\\alpha_i|^2 = 1$.\n",
    "\n",
    "\n",
    "## Hadamardova transformacija u kvantnim algoritmima\n",
    "\n",
    "Hadamardova matrica se može zapisati kao\n",
    "\n",
    "$$\n",
    "H = \\frac{|0\\rangle\\langle0| + |0\\rangle\\langle1| + |1\\rangle\\langle0| - |1\\rangle\\langle1|}{\\sqrt{2}} = \\frac{1}{\\sqrt{2}}\\begin{pmatrix}1 & 1\\\\1 & -1\\end{pmatrix}.\n",
    "$$\n",
    "\n",
    "Kao što smo videli ranije, Hadamardova transformacija se može definisati rekurzivno, tako da je $H_1 = H$, $H_n = H \\otimes H_{n - 1}$.\n",
    "\n",
    "Na dva osnovna bazisna stanja Hadamardova transformacija deluje kao\n",
    "$$\n",
    "H|0\\rangle = \\frac{1}{\\sqrt{2}}(|0\\rangle + |1\\rangle),\n",
    "$$\n",
    "\n",
    "$$\n",
    "H|1\\rangle = \\frac{1}{\\sqrt{2}}(|0\\rangle - |1\\rangle).\n",
    "$$\n",
    "U slučaju dva kjubita Hadamardova transformacija se svodi na tenzorski proizvod dve Adamardove matrice pa je npr.\n",
    "$$\n",
    "(H\\otimes H)|1\\rangle\\otimes|0\\rangle = (H|1\\rangle)\\otimes(H|0\\rangle)\\\\ = \\frac{1}{2}(|0\\rangle - |1\\rangle)\\otimes(|0\\rangle + |1\\rangle) = \\frac{1}{2}(|00\\rangle + |01\\rangle - |10\\rangle - |11\\rangle)\\\\\n",
    "= \\frac{1}{2}(|0\\rangle + |1\\rangle - |2\\rangle - |3\\rangle).\n",
    "$$\n",
    "\n",
    "U većini kvantnih algoritama registar se inicijalizuje u stanje \n",
    "\n",
    "$$\n",
    "H\\otimes H\\otimes\\dots\\otimes H|00\\dots 0\\rangle = \\frac{1}{\\sqrt{2^n}}\\sum_{i = 0}^{2^n - 1}|i\\rangle,\n",
    "$$\n",
    "\n",
    "tj. u uniformnu superpoziciju svih bazisnih stanja. Zatim se dalji tok algoritma izvršava \"paralelno\" na svim bazisnim stanjima u ovoj superpoziciji i u ovome leži jedna od prednosti kvantnih računara. S obzirom da se Hadamardova transformacija izvršava na svakom kjubitu nezavisno i može se paralelizovati, vremenska složenost kvantne Hadamardove transformacije je $O(1)$.\n",
    "\n",
    "Pomoću biblioteke `qiskit` možemo implementirati kvantnu Hadamardovu transformaciju i izvršiti je na kvantnom računaru! IBM pruža pristup nekim od svojih kvantnih procesora registrovanim korisnicima. Mi ćemo ipak ovde pokrenuti kod na simulatoru, međutim, uz male izmene kod se može izvršiti i na kvantnom računaru."
   ]
  },
  {
   "cell_type": "code",
   "execution_count": 1,
   "metadata": {
    "id": "oXIOUQnKsVfq"
   },
   "outputs": [],
   "source": [
    "#!pip install qiskit"
   ]
  },
  {
   "cell_type": "code",
   "execution_count": 2,
   "metadata": {
    "id": "3Yp8FiO4EH8N"
   },
   "outputs": [],
   "source": [
    "from qiskit import IBMQ, Aer\n",
    "from qiskit.providers.ibmq import least_busy\n",
    "from qiskit import QuantumCircuit, assemble\n",
    "from qiskit.visualization import plot_histogram"
   ]
  },
  {
   "cell_type": "code",
   "execution_count": 3,
   "metadata": {
    "colab": {
     "base_uri": "https://localhost:8080/",
     "height": 156
    },
    "id": "buab9ZCMGTz4",
    "outputId": "ab062594-4548-4dd2-ef46-603a1715233a"
   },
   "outputs": [
    {
     "data": {
      "text/html": [
       "<pre style=\"word-wrap: normal;white-space: pre;background: #fff0;line-height: 1.1;font-family: &quot;Courier New&quot;,Courier,monospace\">     ┌───┐┌─┐      \n",
       "q_0: ┤ H ├┤M├──────\n",
       "     ├───┤└╥┘┌─┐   \n",
       "q_1: ┤ H ├─╫─┤M├───\n",
       "     ├───┤ ║ └╥┘┌─┐\n",
       "q_2: ┤ H ├─╫──╫─┤M├\n",
       "     └───┘ ║  ║ └╥┘\n",
       "c: 3/══════╩══╩══╩═\n",
       "           0  1  2 </pre>"
      ],
      "text/plain": [
       "     ┌───┐┌─┐      \n",
       "q_0: ┤ H ├┤M├──────\n",
       "     ├───┤└╥┘┌─┐   \n",
       "q_1: ┤ H ├─╫─┤M├───\n",
       "     ├───┤ ║ └╥┘┌─┐\n",
       "q_2: ┤ H ├─╫──╫─┤M├\n",
       "     └───┘ ║  ║ └╥┘\n",
       "c: 3/══════╩══╩══╩═\n",
       "           0  1  2 "
      ]
     },
     "execution_count": 3,
     "metadata": {},
     "output_type": "execute_result"
    }
   ],
   "source": [
    "n = 3\n",
    "qc = QuantumCircuit(n, n)\n",
    "\n",
    "# Primeni Hadamardovu transformaciju na svaki kjubit\n",
    "for qubit in range(n):\n",
    "    qc.h(qubit)\n",
    "\n",
    "# Merenje\n",
    "for i in range(n):\n",
    "    qc.measure(i, i)\n",
    "\n",
    "qc.draw()"
   ]
  },
  {
   "cell_type": "code",
   "execution_count": 4,
   "metadata": {
    "colab": {
     "base_uri": "https://localhost:8080/",
     "height": 340
    },
    "id": "iyRTXul6GsKN",
    "outputId": "e27f55be-5f35-4a0d-b833-d363a483efed"
   },
   "outputs": [
    {
     "data": {
      "image/png": "[encoded data removed]",
      "text/plain": [
       "<Figure size 504x360 with 1 Axes>"
      ]
     },
     "execution_count": 4,
     "metadata": {},
     "output_type": "execute_result"
    }
   ],
   "source": [
    "# Sledeći kod proverava koji od kompatibilnih kvantnih procesora\n",
    "# je slobodan za izvršavanje našeg koda.\n",
    "\n",
    "# IBMQ.load_account()\n",
    "# provider = IBMQ.get_provider(hub='ibm-q')\n",
    "# backend = least_busy(provider.backends(filters=lambda x: x.configuration().n_qubits >= (n+1) and\n",
    "#                                    not x.configuration().simulator and x.status().operational==True))\n",
    "\n",
    "\n",
    "# Umesto kvantnog procesora koristićemo simulator\n",
    "backend = Aer.get_backend('aer_simulator')\n",
    "qobj = assemble(qc, backend)\n",
    "results = backend.run(qobj).result()\n",
    "answer = results.get_counts()\n",
    "\n",
    "# Histogram rezultata merenja svih kjubita nakon izvršene Hadamardove transformacije\n",
    "plot_histogram(answer)"
   ]
  },
  {
   "cell_type": "code",
   "execution_count": null,
   "metadata": {
    "id": "jaFP3CT4JFPd"
   },
   "outputs": [],
   "source": []
  }
 ],
 "metadata": {
  "colab": {
   "collapsed_sections": [],
   "name": "03_Quantum_Hademard_Transform.ipynb",
   "provenance": []
  },
  "kernelspec": {
   "display_name": "Python 3",
   "language": "python",
   "name": "python3"
  },
  "language_info": {
   "codemirror_mode": {
    "name": "ipython",
    "version": 3
   },
   "file_extension": ".py",
   "mimetype": "text/x-python",
   "name": "python",
   "nbconvert_exporter": "python",
   "pygments_lexer": "ipython3",
   "version": "3.8.5"
  }
 },
 "nbformat": 4,
 "nbformat_minor": 1
}
