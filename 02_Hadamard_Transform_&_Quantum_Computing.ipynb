{
 "cells": [
  {
   "cell_type": "markdown",
   "metadata": {},
   "source": [
    "# Kvantna Adamardova transformacija\n",
    "\n",
    "Adamardova transformacija ima takođe jako bitne primene i u oblasti kvantnog računarstva. Adamardova matrica dimenzija $2 \\times 2$ predstavlja jednu od osnovnih kvantnih operacija koje se mogu primeniti na jedan kjubit (kjubit je analogon bita u kvantnom računarstvu) i ključan je sastojak mnogih kvantnih algoritama.\n",
    "\n",
    "\n",
    "## Kvantna stanja\n",
    "\n",
    "Da bismo objasnili kako Adamardova transformacija deluje na registar kjubita moramo prvo objasniti Dirakovu notaciju koja se koristi za opisivanje stanja kvantnog registra. Kao i klasični bit, kjubit može biti u stanju 0 koje se u Dirakovoj notaciji obeležava sa $|0\\rangle$ i u stanju 1 kojem odgovara $|1\\rangle$. Za razliku od bita kome su 0 i 1 dve međusobno isključive vrednosti, kjubit može biti i u superpoziciji stanja $|0\\rangle$ i $|1\\rangle$. Ovo praktično znači da su $|0\\rangle$ i $|1\\rangle$ dva ortogonalna vektora i da je stanje kjubita linearna kombinacija ova dva vektora. Dakle, stanje kjubita se može zapisati kao $|\\psi\\rangle = \\alpha|0\\rangle + \\beta|1\\rangle$ gde su $\\alpha$ i $\\beta$ kompleksni brojevi, pri čemu se zahteva i uslov normalizacije $|\\alpha|^2 + |\\beta|^2 = 1$. Takođe, umesto Dirakove notacije možemo koristiti i vektore za opis kvantnih stanja gde bismo izvršili sledeću identifikaciju\n",
    "\n",
    "$$\n",
    "|0\\rangle = \\begin{pmatrix}1\\\\0\\end{pmatrix}, |1\\rangle = \\begin{pmatrix}0\\\\1\\end{pmatrix},\n",
    "$$\n",
    "\n",
    "pa bi stanje kjubita u vektorskom obliku bilo zapisano kao\n",
    "\n",
    "$$\n",
    "|\\psi\\rangle = \\begin{pmatrix}\\alpha\\\\\\beta\\end{pmatrix}.\n",
    "$$\n",
    "U Dirakovoj notaciji $\\langle\\psi|$ je element dualnog vektorskog prostora i svodi se na transponovanje i konjugovanje vektora $|\\psi\\rangle$, tj. $\\langle\\psi| = \\begin{pmatrix}\\alpha^* & \\beta^*\\end{pmatrix}$.\n",
    "\n",
    "\n",
    "## Adamardova transformacija u kvantnim algoritmima\n",
    "\n",
    "Adamardova matrica se može zapisati kao\n",
    "\n",
    "$$\n",
    "H = \\frac{|0\\rangle\\langle0| + |0\\rangle\\langle1| + |1\\rangle\\langle0| - |1\\rangle\\langle1|}{\\sqrt{2}} = \\frac{1}{\\sqrt{2}}\\begin{pmatrix}1 & 1\\\\1 & -1\\end{pmatrix}.\n",
    "$$"
   ]
  },
  {
   "cell_type": "code",
   "execution_count": null,
   "metadata": {},
   "outputs": [],
   "source": []
  }
 ],
 "metadata": {
  "kernelspec": {
   "display_name": "Python 3",
   "language": "python",
   "name": "python3"
  },
  "language_info": {
   "codemirror_mode": {
    "name": "ipython",
    "version": 3
   },
   "file_extension": ".py",
   "mimetype": "text/x-python",
   "name": "python",
   "nbconvert_exporter": "python",
   "pygments_lexer": "ipython3",
   "version": "3.8.5"
  }
 },
 "nbformat": 4,
 "nbformat_minor": 4
}
