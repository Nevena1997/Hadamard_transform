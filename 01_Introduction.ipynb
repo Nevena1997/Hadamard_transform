{
 "cells": [
  {
   "cell_type": "markdown",
   "metadata": {},
   "source": [
    " # Hadamardova transformacija\n",
    " \n",
    " Hademardova transformacija (Hadamard transform, Walsh–Hadamard transform, Hadamard–Rademacher–Walsh transform, Walsh transform, Walsh–Fourier transform) je primer klase koja generalizuje Furijeovu transformaciju.\n",
    " Ona izvodi ortogonalnu, simetričnu, involutivnu, linearnu operaciju nad $2^{m}$ realnih (kompleksnih) brojeva.\n",
    " \n",
    " Hadamardova transformacija se može smatrati izgrađenom od diskretnih Furijeovih transformacija (DFT) veličine 2 i zapravo je ekvivalentna višedimenzionalnom DFT-u veličine 2 × 2 × ⋯ × 2 × 2.\n",
    " \n",
    " Matrica Hademardove transformacije se dobija rekurentnom relacijom:\n",
    "\n",
    "$$H_0 = + (1)$$\n",
    "\n",
    "$$H_m = \\frac{1}{\\sqrt{2}} \\begin{pmatrix}H_{m-1} & H_{m-1}\\\\\n",
    "H_{m-1} & -H_{m-1}\n",
    "\\end{pmatrix}$$\n",
    "\n",
    "Hademardove matrice za m = 1, 2, 3.\n",
    "\n",
    "$$H_1 = \\frac{1}{\\sqrt{2}} \\begin{pmatrix}1 & 1\\\\\n",
    "1 & -1\n",
    "\\end{pmatrix}$$\n",
    "\n",
    "$$H_2 = \\frac{1}{2} \\begin{pmatrix}1 & 1 & 1 & 1\\\\\n",
    "1 & -1 & 1 & -1\\\\\n",
    "1 & 1 & -1 & -1\\\\\n",
    "1 & -1 & -1 & 1\\\\\n",
    "\\end{pmatrix}$$\n",
    "\n",
    "$$H_3 = \\frac{1}{2^{3/2}} \\begin{pmatrix}1 & 1 & 1 & 1 & 1 & 1 & 1 & 1\\\\\n",
    "1 & -1 & 1 & -1 & 1 & -1 & 1 & -1\\\\\n",
    "1 & 1 & -1 & -1 & 1 & 1 & -1 & -1\\\\\n",
    "1 & -1 & -1 & 1 & 1 & -1 & -1 & 1\\\\\n",
    "1 & 1 & 1 & 1 & -1 & -1 & -1 & -1\\\\\n",
    "1 & -1 & 1 & -1 & -1 & 1 & -1 & 1\\\\\n",
    "1 & 1 & -1 & -1 & -1 & -1 & 1 & 1\\\\\n",
    "1 & -1 & -1 & 1 & -1 & 1 & -1 & 1\\\\\n",
    "\\end{pmatrix}$$\n",
    "\n",
    "U klasičnoj primeni, Hadamardova transformacija se može izračunati u $nlogn$ operacija $(n = 2^m)$, koristći algoritam brze Hadamardove transformacije.\n",
    "U kvantnoj domeni, Hadamardova se transformacija može izračunati u $O(1)$ vrijeme, kakvo je kvantna logička vrata to može biti paralelizirano.\n",
    "\n",
    "Hadamardova transformacija se takođe koristi u kriptografiji, kao i u procesiranje signala i algoritmima za kompresiju podataka, kao što su JPEG XR i MPEG-4 AVC. U  aplikacijama za video kompresije, obično se koristi u obliku sume apsolutno transformiranih razlika. To je takođe presudan deo Groverovog i Šorovog algoritma u kvantnom računanju. Hadamardova se primenjuje i u eksperimentalnim tehnikama poput NMR, masovne spektrometrije i kristalografije. Dodatno se koristi u nekim verzijama mešanja osjetljive na lokalitet, za dobivanje pseudo-slučajnih rotacija matrice. "
   ]
  },
  {
   "cell_type": "code",
   "execution_count": null,
   "metadata": {},
   "outputs": [],
   "source": []
  },
  {
   "cell_type": "code",
   "execution_count": 1,
   "metadata": {},
   "outputs": [],
   "source": [
    "import numpy as np"
   ]
  },
  {
   "cell_type": "code",
   "execution_count": 54,
   "metadata": {},
   "outputs": [],
   "source": [
    "def hademard_matrix(m):\n",
    "    h_0 = 1\n",
    "    \n",
    "    h_prev = h_0\n",
    "    for _ in range(m):\n",
    "        h_new = np.block([[h_prev, h_prev], [h_prev, -1 * h_prev]])\n",
    "        h_prev = h_new\n",
    "        \n",
    "    return h_new"
   ]
  },
  {
   "cell_type": "code",
   "execution_count": 55,
   "metadata": {},
   "outputs": [],
   "source": [
    "def hademard_coef(m):\n",
    "    return 2 ** (-m / 2)"
   ]
  },
  {
   "cell_type": "code",
   "execution_count": 56,
   "metadata": {},
   "outputs": [],
   "source": [
    "m = 3"
   ]
  },
  {
   "cell_type": "code",
   "execution_count": 57,
   "metadata": {},
   "outputs": [],
   "source": [
    "matrix = hademard_matrix(n)"
   ]
  },
  {
   "cell_type": "code",
   "execution_count": 59,
   "metadata": {},
   "outputs": [
    {
     "data": {
      "text/plain": [
       "array([[ 1,  1,  1,  1,  1,  1,  1,  1],\n",
       "       [ 1, -1,  1, -1,  1, -1,  1, -1],\n",
       "       [ 1,  1, -1, -1,  1,  1, -1, -1],\n",
       "       [ 1, -1, -1,  1,  1, -1, -1,  1],\n",
       "       [ 1,  1,  1,  1, -1, -1, -1, -1],\n",
       "       [ 1, -1,  1, -1, -1,  1, -1,  1],\n",
       "       [ 1,  1, -1, -1, -1, -1,  1,  1],\n",
       "       [ 1, -1, -1,  1, -1,  1,  1, -1]])"
      ]
     },
     "execution_count": 59,
     "metadata": {},
     "output_type": "execute_result"
    }
   ],
   "source": [
    "matrix"
   ]
  },
  {
   "cell_type": "code",
   "execution_count": 58,
   "metadata": {},
   "outputs": [],
   "source": [
    "coef = hademard_coef(m)"
   ]
  },
  {
   "cell_type": "code",
   "execution_count": 60,
   "metadata": {},
   "outputs": [
    {
     "data": {
      "text/plain": [
       "0.3535533905932738"
      ]
     },
     "execution_count": 60,
     "metadata": {},
     "output_type": "execute_result"
    }
   ],
   "source": [
    "coef"
   ]
  },
  {
   "cell_type": "code",
   "execution_count": null,
   "metadata": {},
   "outputs": [],
   "source": []
  },
  {
   "cell_type": "markdown",
   "metadata": {},
   "source": [
    "Ekvivalentno, Hadamardovu tranformaciju možemo definisati i pokoordinatno za $(Hm)_{kn}$:\n",
    "\n",
    "\\begin{aligned}k&=\\sum _{i=0}^{m-1}{k_{i}2^{i}}=k_{m-1}2^{m-1}+k_{m-2}2^{m-2}+\\dots +k_{1}2+k_{0}\\\\n&=\\sum _{i=0}^{m-1}{n_{i}2^{i}}=n_{m-1}2^{m-1}+n_{m-2}2^{m-2}+\\dots +n_{1}2+n_{0}\\end{aligned}\n",
    "gde su $k_j$ i $n_j$ bitovi (0 ili 1) binarnog zapisa brojeva $k$ i $n$.  \n",
    "Dobijamo:\n",
    "$$(H_{m})_{k,n}={\\frac {1}{2^{m/2}}}(-1)^{\\sum _{j}k_{j}n_{j}}$$\n",
    "\n",
    "Ovo je multidimenzionalna $2\\times 2\\times \\cdots \\times 2\\times 2$ DFT, normalizovana da bude unitarna.\n",
    "\n",
    "Na primer, ako je $m \\geq 2$, tada je $$(H_{m})_{3,2}\\;=\\;(-1)^{3\\cdot 2}\\;=\\;(-1)^{(1,1)\\cdot (1,0)}\\;=\\;(-1)^{1+0}\\;=\\;(-1)^{1}\\;=\\;-1 $$"
   ]
  },
  {
   "cell_type": "code",
   "execution_count": null,
   "metadata": {},
   "outputs": [],
   "source": []
  },
  {
   "cell_type": "code",
   "execution_count": 43,
   "metadata": {},
   "outputs": [],
   "source": [
    "def get_element(k, n):\n",
    "    k_binary = []\n",
    "    n_binary = []\n",
    "    \n",
    "    while (k != 0 or n != 0):\n",
    "        k_binary = np.append([k % 2], k_binary)\n",
    "        n_binary = np.append([n % 2], n_binary)\n",
    "        \n",
    "        k = k // 2\n",
    "        n = n // 2\n",
    "        \n",
    "    exp = np.dot(k_binary, n_binary)\n",
    "    \n",
    "    #exp = bin(k & n).count('1')\n",
    "    \n",
    "    return (-1) ** exp"
   ]
  },
  {
   "cell_type": "code",
   "execution_count": 39,
   "metadata": {},
   "outputs": [
    {
     "data": {
      "text/plain": [
       "-1.0"
      ]
     },
     "execution_count": 39,
     "metadata": {},
     "output_type": "execute_result"
    }
   ],
   "source": [
    "get_element(3, 2)"
   ]
  },
  {
   "cell_type": "code",
   "execution_count": null,
   "metadata": {},
   "outputs": [],
   "source": []
  },
  {
   "cell_type": "markdown",
   "metadata": {},
   "source": [
    "#### Preuredjena Hadamardova transformacija - Walshova transformacija\n",
    "\n",
    "Redovi Hadamardove matrice su Walsh-ove funkcije."
   ]
  },
  {
   "cell_type": "code",
   "execution_count": 11,
   "metadata": {},
   "outputs": [],
   "source": [
    "def walsh_order(n):\n",
    "    m, c = hademard_matrix(n)\n",
    "    \n",
    "    N = m.shape[0]\n",
    "    array = np.zeros(N)\n",
    "    \n",
    "    for i in range(N):\n",
    "        row = m[i]\n",
    "        count = 0\n",
    "        \n",
    "        for j in range(N - 1):\n",
    "            if row[j] * row[j + 1] == -1:\n",
    "                count += 1\n",
    "        array[i] = count\n",
    "            \n",
    "    a = []\n",
    "    for i in range(N):\n",
    "        arg_max = np.argmin(array)\n",
    "        \n",
    "        a.append(m[arg_max])\n",
    "        array[arg_max] = N\n",
    "        \n",
    "    return a"
   ]
  },
  {
   "cell_type": "code",
   "execution_count": 12,
   "metadata": {},
   "outputs": [],
   "source": [
    "a = walsh_order(n)"
   ]
  },
  {
   "cell_type": "code",
   "execution_count": 13,
   "metadata": {},
   "outputs": [
    {
     "data": {
      "text/plain": [
       "[array([1, 1, 1, 1, 1, 1, 1, 1]),\n",
       " array([ 1,  1,  1,  1, -1, -1, -1, -1]),\n",
       " array([ 1,  1, -1, -1, -1, -1,  1,  1]),\n",
       " array([ 1,  1, -1, -1,  1,  1, -1, -1]),\n",
       " array([ 1, -1, -1,  1,  1, -1, -1,  1]),\n",
       " array([ 1, -1, -1,  1, -1,  1,  1, -1]),\n",
       " array([ 1, -1,  1, -1, -1,  1, -1,  1]),\n",
       " array([ 1, -1,  1, -1,  1, -1,  1, -1])]"
      ]
     },
     "execution_count": 13,
     "metadata": {},
     "output_type": "execute_result"
    }
   ],
   "source": [
    "a"
   ]
  },
  {
   "cell_type": "code",
   "execution_count": 2,
   "metadata": {},
   "outputs": [],
   "source": [
    "#Explain Walsh order"
   ]
  },
  {
   "cell_type": "markdown",
   "metadata": {},
   "source": [
    "#### 1D Primer"
   ]
  },
  {
   "cell_type": "code",
   "execution_count": null,
   "metadata": {},
   "outputs": [],
   "source": []
  },
  {
   "cell_type": "markdown",
   "metadata": {},
   "source": [
    "#### 2D Primer"
   ]
  },
  {
   "cell_type": "code",
   "execution_count": 61,
   "metadata": {},
   "outputs": [
    {
     "ename": "NameError",
     "evalue": "name 'fwht' is not defined",
     "output_type": "error",
     "traceback": [
      "\u001b[1;31m---------------------------------------------------------------------------\u001b[0m",
      "\u001b[1;31mNameError\u001b[0m                                 Traceback (most recent call last)",
      "\u001b[1;32m<ipython-input-61-d92d9764585d>\u001b[0m in \u001b[0;36m<module>\u001b[1;34m\u001b[0m\n\u001b[1;32m----> 1\u001b[1;33m \u001b[0my1\u001b[0m \u001b[1;33m=\u001b[0m \u001b[0mfwht\u001b[0m\u001b[1;33m(\u001b[0m\u001b[0mwalshMatrix\u001b[0m\u001b[1;33m)\u001b[0m\u001b[1;33m\u001b[0m\u001b[1;33m\u001b[0m\u001b[0m\n\u001b[0m",
      "\u001b[1;31mNameError\u001b[0m: name 'fwht' is not defined"
     ]
    }
   ],
   "source": [
    "y1 = fwht(walshMatrix)"
   ]
  },
  {
   "cell_type": "code",
   "execution_count": null,
   "metadata": {},
   "outputs": [],
   "source": []
  },
  {
   "cell_type": "code",
   "execution_count": null,
   "metadata": {},
   "outputs": [],
   "source": []
  },
  {
   "cell_type": "markdown",
   "metadata": {},
   "source": [
    "https://www.mathworks.com/help/signal/ug/discrete-walsh-hadamard-transform.html"
   ]
  },
  {
   "cell_type": "markdown",
   "metadata": {},
   "source": [
    "https://www.mathworks.com/help/signal/ug/walshhadamard-transform.html"
   ]
  },
  {
   "cell_type": "code",
   "execution_count": null,
   "metadata": {},
   "outputs": [],
   "source": []
  },
  {
   "cell_type": "markdown",
   "metadata": {},
   "source": []
  },
  {
   "cell_type": "code",
   "execution_count": null,
   "metadata": {},
   "outputs": [],
   "source": []
  }
 ],
 "metadata": {
  "kernelspec": {
   "display_name": "mlp_venv",
   "language": "python",
   "name": "mlp_venv"
  },
  "language_info": {
   "codemirror_mode": {
    "name": "ipython",
    "version": 3
   },
   "file_extension": ".py",
   "mimetype": "text/x-python",
   "name": "python",
   "nbconvert_exporter": "python",
   "pygments_lexer": "ipython3",
   "version": "3.8.5"
  }
 },
 "nbformat": 4,
 "nbformat_minor": 4
}
