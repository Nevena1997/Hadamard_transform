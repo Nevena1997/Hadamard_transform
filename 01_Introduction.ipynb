{
 "cells": [
  {
   "cell_type": "markdown",
   "metadata": {},
   "source": [
    " # Hadamardova transformacija\n",
    " \n",
    " Hademardova transformacija (Hadamard transform, Walsh–Hadamard transform, Hadamard–Rademacher–Walsh transform, Walsh transform, Walsh–Fourier transform) je primer klase koja generalizuje Furijeovu transformaciju.\n",
    " Ukratko, ona izvodi ortogonalnu, simetričnu, involutivnu, linearnu operaciju nad 2^m realnih brojeva (ili kompleksnih).\n",
    " \n",
    " Hadamardova transformacija se može smatrati izgrađenom od diskretnih Furijeovih transformacija (DFT) veličine 2 i zapravo je ekvivalentna višedimenzionalnom DFT-u veličine 2 × 2 × ⋯ × 2 × 2."
   ]
  },
  {
   "cell_type": "markdown",
   "metadata": {},
   "source": [
    "Matrica Hademardove transformacije se dobija rekurentnom relacijom:\n",
    "\n",
    "$$H_0 = + (1)$$\n",
    "\n",
    "$$H_m = \\frac{1}{\\sqrt{2}} \\begin{pmatrix}H_{m-1} & H_{m-1}\\\\\n",
    "H_{m-1} & -H_{m-1}\n",
    "\\end{pmatrix}$$"
   ]
  },
  {
   "cell_type": "markdown",
   "metadata": {},
   "source": [
    "Kako izgledaju matrice za m = 1, 2, 3.\n",
    "\n",
    "$$H_1 = \\frac{1}{\\sqrt{2}} \\begin{pmatrix}1 & 1\\\\\n",
    "1 & -1\n",
    "\\end{pmatrix}$$\n",
    "\n",
    "$$H_2 = \\frac{1}{2} \\begin{pmatrix}1 & 1 & 1 & 1\\\\\n",
    "1 & -1 & 1 & -1\\\\\n",
    "1 & 1 & -1 & -1\\\\\n",
    "1 & -1 & -1 & 1\\\\\n",
    "\\end{pmatrix}$$\n",
    "\n",
    "$$H_3 = \\frac{1}{2^{3/2}} \\begin{pmatrix}1 & 1 & 1 & 1 & 1 & 1 & 1 & 1\\\\\n",
    "1 & -1 & 1 & -1 & 1 & -1 & 1 & -1\\\\\n",
    "1 & 1 & -1 & -1 & 1 & 1 & -1 & -1\\\\\n",
    "1 & -1 & -1 & 1 & 1 & -1 & -1 & 1\\\\\n",
    "1 & 1 & 1 & 1 & -1 & -1 & -1 & -1\\\\\n",
    "1 & -1 & 1 & -1 & -1 & 1 & -1 & 1\\\\\n",
    "1 & 1 & -1 & -1 & -1 & -1 & 1 & 1\\\\\n",
    "1 & -1 & -1 & 1 & -1 & 1 & -1 & 1\\\\\n",
    "\\end{pmatrix}$$"
   ]
  },
  {
   "cell_type": "markdown",
   "metadata": {},
   "source": [
    "Ekvivalentno, Hadamardovu tranformaciju možemo definisati i pokoordinatno:\n",
    "\n",
    "\\begin{aligned}k&=\\sum _{i=0}^{m-1}{k_{i}2^{i}}=k_{m-1}2^{m-1}+k_{m-2}2^{m-2}+\\dots +k_{1}2+k_{0}\\\\n&=\\sum _{i=0}^{m-1}{n_{i}2^{i}}=n_{m-1}2^{m-1}+n_{m-2}2^{m-2}+\\dots +n_{1}2+n_{0}\\end{aligned}\n",
    "gde su kj i nj elementi 0 ili 1 od k i n, redom. \n",
    "Za element u gornjem levom uglu definišemo: k=n=0. I u ovom slucaju imamo:\n",
    "{\\displaystyle (H_{m})_{k,n}={\\frac {1}{2^{m/2}}}(-1)^{\\sum _{j}k_{j}n_{j}}}{\\displaystyle (H_{m})_{k,n}={\\frac {1}{2^{m/2}}}(-1)^{\\sum _{j}k_{j}n_{j}}}"
   ]
  },
  {
   "cell_type": "code",
   "execution_count": null,
   "metadata": {},
   "outputs": [],
   "source": []
  },
  {
   "cell_type": "code",
   "execution_count": null,
   "metadata": {},
   "outputs": [],
   "source": []
  },
  {
   "cell_type": "code",
   "execution_count": null,
   "metadata": {},
   "outputs": [],
   "source": []
  },
  {
   "cell_type": "code",
   "execution_count": null,
   "metadata": {},
   "outputs": [],
   "source": []
  },
  {
   "cell_type": "code",
   "execution_count": 1,
   "metadata": {},
   "outputs": [],
   "source": [
    "import numpy as np"
   ]
  },
  {
   "cell_type": "code",
   "execution_count": 2,
   "metadata": {},
   "outputs": [],
   "source": [
    "def hademard_matrix(n):\n",
    "    h_0 = 1\n",
    "    \n",
    "    h_prev = h_0\n",
    "    c = 1\n",
    "    for _ in range(n):\n",
    "        h_new = np.block([[h_prev, h_prev], [h_prev, -1 * h_prev]])\n",
    "        \n",
    "        c *= 1 / np.sqrt(2)\n",
    "        h_prev = h_new\n",
    "        \n",
    "    return h_new, c"
   ]
  },
  {
   "cell_type": "code",
   "execution_count": 3,
   "metadata": {},
   "outputs": [],
   "source": [
    "n = 3"
   ]
  },
  {
   "cell_type": "code",
   "execution_count": 4,
   "metadata": {},
   "outputs": [],
   "source": [
    "m, c = hademard_matrix(n)"
   ]
  },
  {
   "cell_type": "code",
   "execution_count": 5,
   "metadata": {},
   "outputs": [
    {
     "data": {
      "text/plain": [
       "0.3535533905932737"
      ]
     },
     "execution_count": 5,
     "metadata": {},
     "output_type": "execute_result"
    }
   ],
   "source": [
    "c "
   ]
  },
  {
   "cell_type": "code",
   "execution_count": 6,
   "metadata": {},
   "outputs": [
    {
     "data": {
      "text/plain": [
       "array([[ 1,  1,  1,  1,  1,  1,  1,  1],\n",
       "       [ 1, -1,  1, -1,  1, -1,  1, -1],\n",
       "       [ 1,  1, -1, -1,  1,  1, -1, -1],\n",
       "       [ 1, -1, -1,  1,  1, -1, -1,  1],\n",
       "       [ 1,  1,  1,  1, -1, -1, -1, -1],\n",
       "       [ 1, -1,  1, -1, -1,  1, -1,  1],\n",
       "       [ 1,  1, -1, -1, -1, -1,  1,  1],\n",
       "       [ 1, -1, -1,  1, -1,  1,  1, -1]])"
      ]
     },
     "execution_count": 6,
     "metadata": {},
     "output_type": "execute_result"
    }
   ],
   "source": [
    "m"
   ]
  },
  {
   "cell_type": "code",
   "execution_count": null,
   "metadata": {},
   "outputs": [],
   "source": []
  },
  {
   "cell_type": "markdown",
   "metadata": {},
   "source": [
    "#### Preuredjena Hadamardova transformacija - Walshova transformacija"
   ]
  },
  {
   "cell_type": "code",
   "execution_count": 7,
   "metadata": {},
   "outputs": [],
   "source": [
    "def walsh_order(n):\n",
    "    m, c = hademard_matrix(n)\n",
    "    \n",
    "    N = m.shape[0]\n",
    "    array = np.zeros(N)\n",
    "    \n",
    "    for i in range(N):\n",
    "        row = m[i]\n",
    "        count = 0\n",
    "        \n",
    "        for j in range(N - 1):\n",
    "            if row[j] * row[j + 1] == -1:\n",
    "                count += 1\n",
    "        array[i] = count\n",
    "            \n",
    "    a = []\n",
    "    for i in range(N):\n",
    "        arg_max = np.argmin(array)\n",
    "        \n",
    "        a.append(m[arg_max])\n",
    "        array[arg_max] = N\n",
    "        \n",
    "    return a"
   ]
  },
  {
   "cell_type": "code",
   "execution_count": 8,
   "metadata": {},
   "outputs": [],
   "source": [
    "a = walsh_order(n)"
   ]
  },
  {
   "cell_type": "code",
   "execution_count": 9,
   "metadata": {},
   "outputs": [
    {
     "data": {
      "text/plain": [
       "[array([1, 1, 1, 1, 1, 1, 1, 1]),\n",
       " array([ 1,  1,  1,  1, -1, -1, -1, -1]),\n",
       " array([ 1,  1, -1, -1, -1, -1,  1,  1]),\n",
       " array([ 1,  1, -1, -1,  1,  1, -1, -1]),\n",
       " array([ 1, -1, -1,  1,  1, -1, -1,  1]),\n",
       " array([ 1, -1, -1,  1, -1,  1,  1, -1]),\n",
       " array([ 1, -1,  1, -1, -1,  1, -1,  1]),\n",
       " array([ 1, -1,  1, -1,  1, -1,  1, -1])]"
      ]
     },
     "execution_count": 9,
     "metadata": {},
     "output_type": "execute_result"
    }
   ],
   "source": [
    "a"
   ]
  },
  {
   "cell_type": "code",
   "execution_count": null,
   "metadata": {},
   "outputs": [],
   "source": []
  },
  {
   "cell_type": "markdown",
   "metadata": {},
   "source": [
    "#### 1D Primer"
   ]
  },
  {
   "cell_type": "code",
   "execution_count": null,
   "metadata": {},
   "outputs": [],
   "source": []
  },
  {
   "cell_type": "markdown",
   "metadata": {},
   "source": [
    "#### 2D Primer"
   ]
  },
  {
   "cell_type": "code",
   "execution_count": null,
   "metadata": {},
   "outputs": [],
   "source": []
  }
 ],
 "metadata": {
  "kernelspec": {
   "display_name": "mlp_venv",
   "language": "python",
   "name": "mlp_venv"
  },
  "language_info": {
   "codemirror_mode": {
    "name": "ipython",
    "version": 3
   },
   "file_extension": ".py",
   "mimetype": "text/x-python",
   "name": "python",
   "nbconvert_exporter": "python",
   "pygments_lexer": "ipython3",
   "version": "3.8.5"
  }
 },
 "nbformat": 4,
 "nbformat_minor": 4
}
