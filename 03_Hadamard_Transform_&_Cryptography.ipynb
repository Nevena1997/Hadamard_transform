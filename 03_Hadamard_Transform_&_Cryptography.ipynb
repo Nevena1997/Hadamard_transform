{
 "cells": [
  {
   "cell_type": "markdown",
   "metadata": {
    "id": "IBOEFKdqUQh8"
   },
   "source": [
    "# Pseudo-Hadamardova transformacija\n",
    "\n",
    "Pseudo-Hadamardova transformacija je invertibilna transformacija koja se može primeniti na string bitova i koja ima česte primene u kriptografiji. Pseudo-Hadamardova transformacija se u kriptografiji koristi za stvaranje kriptografske difuzije. Kriptografska difuzija označava veliku zavisnost izlaznog rezultata od promene ulaza. Ona omogućava svojstvo da malom promenom ulaznog stringa, dobijamo veliku promenu kriptovanog teksta.\n",
    "\n",
    "Da bismo primenili pseudo-Hadamardovu transformaciju, potrebno je da string bitova bude parne dužine kako bi ga bilo moguće podeliti na dva jednaka podstringa $a$ i $b$ dužine $n$. Tada su nove transformisane vrednosti stringova date sa\n",
    "\n",
    "$$ a'=a+b\\,{\\pmod {2^{n}}}$$\n",
    "$$ b'=a+2b\\,{\\pmod {2^{n}}}.$$\n",
    "\n",
    "Gornje jednačine takođe mogu biti prikazane i matricom, posmatrajući $a$ i $b$ kao dva elementa vektora i transformaciju kao množenje matricom oblika:\n",
    "\n",
    "$$ H_{1}=\\begin{pmatrix}1&1\\\\1&2\\end{pmatrix}$$\n",
    "\n",
    "Inverzna transformacije se moze dobiti invertovanjem matrice.\n",
    "Matrica može biti generalizovana na više dimenzije, dozvoljavajući vektorima čija je dužina umnožak bilo kog stepena dvojke da budu transformisani, koristeći sledeće rekurzivno pravilo:\n",
    "$$H_{n}=\\begin{pmatrix}H_{n-1}&H_{n-1}\\\\H_{n-1}&2H_{n-1}\\end{pmatrix}$$\n",
    "\n",
    "Na primer:\n",
    "$$H_{2} = \\begin{pmatrix}1 & 1 & 1 & 1\\\\1 & 2 & 1 & 2\\\\1 & 1 & 2 & 2\\\\1 & 2 & 2 & 4\\end{pmatrix}.$$"
   ]
  },
  {
   "cell_type": "code",
   "execution_count": 1,
   "metadata": {
    "id": "Wqzeu5i_nXiZ"
   },
   "outputs": [],
   "source": [
    "def sum_bitstrings(a, b):\n",
    "    ans = []\n",
    "    carry = 0\n",
    "    \n",
    "    for x, y in zip(reversed(a), reversed(b)):\n",
    "        s = x + y + carry\n",
    "        ans.append(s % 2)\n",
    "        carry = 1 if s > 1 else 0\n",
    "    \n",
    "    ans.reverse()\n",
    "    return ans"
   ]
  },
  {
   "cell_type": "code",
   "execution_count": 2,
   "metadata": {
    "id": "0vhUuRTpUQiD"
   },
   "outputs": [],
   "source": [
    "def pseudo_hadamard_transform(bitstring):\n",
    "    a = bitstring[:len(bitstring) // 2]\n",
    "    b = bitstring[len(bitstring) // 2:]\n",
    "\n",
    "    # a' = a + b\n",
    "    # b' = a' + b\n",
    "    ap = sum_bitstrings(a, b)\n",
    "    bp = sum_bitstrings(ap, b)\n",
    "    \n",
    "    return ap + bp"
   ]
  },
  {
   "cell_type": "code",
   "execution_count": 3,
   "metadata": {
    "colab": {
     "base_uri": "https://localhost:8080/"
    },
    "id": "1L7Us0c4nQFj",
    "outputId": "a9850516-ea60-4df9-ff0c-e2c5213fad63"
   },
   "outputs": [
    {
     "data": {
      "text/plain": [
       "[0, 0, 0, 1, 1, 0, 0, 0]"
      ]
     },
     "execution_count": 3,
     "metadata": {},
     "output_type": "execute_result"
    }
   ],
   "source": [
    "bitstring = [1, 0, 1, 0, 0, 1, 1, 1]\n",
    "pseudo_hadamard_transform(bitstring)"
   ]
  },
  {
   "cell_type": "code",
   "execution_count": 4,
   "metadata": {
    "colab": {
     "base_uri": "https://localhost:8080/"
    },
    "id": "QNU1QBiCrEFw",
    "outputId": "6b4c2860-c07b-4b83-d6b8-9b32ed4f0526"
   },
   "outputs": [
    {
     "data": {
      "text/plain": [
       "[0, 0, 0, 0, 0, 1, 1, 0]"
      ]
     },
     "execution_count": 4,
     "metadata": {},
     "output_type": "execute_result"
    }
   ],
   "source": [
    "bitstring = [1, 0, 1, 0, 0, 1, 1, 0]\n",
    "pseudo_hadamard_transform(bitstring)"
   ]
  },
  {
   "cell_type": "markdown",
   "metadata": {
    "id": "OI951kNwvMs_"
   },
   "source": [
    "Vidimo da je promenom poslednjeg bita početnog stringa došlo do promene 4 bita u izlaznom stringu. Kriptografska difuzija predstavlja upravo ovakvo ponašanje, promenom jednog bita u tekstu dolazi do promene oko polovine bitova enkriptovanog teksta. Svrha kriptografske difuzije je prikrivanje korelacija između enkriptovanog teksta i početnog teksta. Na primer, difuzija obezbeđuje da ponavljanja u početnom tekstu ne budu prisutna u enkriptovanom tekstu."
   ]
  },
  {
   "cell_type": "code",
   "execution_count": null,
   "metadata": {
    "id": "H4jI6vqxwKE7"
   },
   "outputs": [],
   "source": []
  }
 ],
 "metadata": {
  "colab": {
   "collapsed_sections": [],
   "name": "crypto.ipynb",
   "provenance": []
  },
  "kernelspec": {
   "display_name": "mlp_venv",
   "language": "python",
   "name": "mlp_venv"
  },
  "language_info": {
   "codemirror_mode": {
    "name": "ipython",
    "version": 3
   },
   "file_extension": ".py",
   "mimetype": "text/x-python",
   "name": "python",
   "nbconvert_exporter": "python",
   "pygments_lexer": "ipython3",
   "version": "3.8.5"
  }
 },
 "nbformat": 4,
 "nbformat_minor": 1
}
