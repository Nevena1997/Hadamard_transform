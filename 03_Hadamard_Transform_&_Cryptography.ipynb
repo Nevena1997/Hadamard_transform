{
 "cells": [
  {
   "cell_type": "markdown",
   "metadata": {},
   "source": [
    "#### Pseudo-Hadamard transformacija\n",
    "https://en.wikipedia.org/wiki/Pseudo-Hadamard_transform\n",
    "\n",
    "Pseudo-Hadamard transformacija je invertibilna transformacija stringa bitova koja omogućava kriptografsku difuziju. \n",
    "Kriptografska difuzija označava veliku zavisnost izlaznog rezultata od ulaza. Ona omogućava svojstvo da malom promenom ulaznog stringa, dobijamo veliku promenu kriptovanog teksta.\n",
    "\n",
    "String bitova mora biti parne duzine kako bi ga bilo moguce podeliti na dva stringa, $a$ i $b$, jednakih duzina $n$.\n",
    "\n",
    "Za izračunavanje transformacije, $a'$ i $b'$, koristimo jednačine:\n",
    "$$ b'=a+2b\\,{\\pmod {2^{n}}}$$\n",
    "$$ a'=a+b\\,{\\pmod {2^{n}}}$$\n",
    "\n",
    "Inverz ovoga je,\n",
    "$$b=b'-a'\\,{\\pmod {2^{n}}}$$\n",
    "$$a=2a'-b'\\,{\\pmod {2^{n}}}$$\n",
    "\n",
    "Gornje jednačine mogu biti prikazane matricom, posmatrajući a i b kao dva elementa vektora i transformaciju kao množenje matricom oblika:\n",
    "$$ H_{1}=\\begin{pmatrix}2&1\\\\1&1\\end{pmatrix}$$\n",
    "\n",
    "Inverz se moze dobiti invertovanjem matrice.\n",
    "Matrica moze biti generalizovana na više dimenzije, dozvoljavajući vektorima bilo kog stepena dvojke da budu transformisani, koristeći sledeće rekurzivno pravilo:\n",
    "$$H_{n}=\\begin{pmatrix}2\\times H_{n-1}&H_{n-1}\\\\H_{n-1}&H_{n-1}\\end{pmatrix}$$\n",
    "\n",
    "Na primer:\n",
    "$$H_{2}=\\begin{pmatrix}4&2&2&1\\\\2&2&1&1\\\\2&1&2&1\\\\1&1&1&1\\end{pmatrix}$$"
   ]
  },
  {
   "cell_type": "markdown",
   "metadata": {},
   "source": [
    "https://en.citizendium.org/wiki/Pseudo-Hadamard_transform\n",
    "\n",
    "https://eprint.iacr.org/2004/010.pdf\n",
    "\n",
    "https://eudl.eu/pdf/10.4108/eai.13-7-2018.163980"
   ]
  },
  {
   "cell_type": "markdown",
   "metadata": {},
   "source": [
    "x = a + b\n",
    "\n",
    "y = a + 2b\n",
    "\n",
    "a = x\n",
    "\n",
    "b = y\n",
    "\n",
    "a += b\n",
    "\n",
    "b += a"
   ]
  },
  {
   "cell_type": "markdown",
   "metadata": {},
   "source": [
    "Second, for any level of the transform, it is clear that every output block depends on all input blocks."
   ]
  },
  {
   "cell_type": "code",
   "execution_count": null,
   "metadata": {},
   "outputs": [],
   "source": []
  }
 ],
 "metadata": {
  "kernelspec": {
   "display_name": "mlp_venv",
   "language": "python",
   "name": "mlp_venv"
  },
  "language_info": {
   "codemirror_mode": {
    "name": "ipython",
    "version": 3
   },
   "file_extension": ".py",
   "mimetype": "text/x-python",
   "name": "python",
   "nbconvert_exporter": "python",
   "pygments_lexer": "ipython3",
   "version": "3.8.5"
  }
 },
 "nbformat": 4,
 "nbformat_minor": 4
}
