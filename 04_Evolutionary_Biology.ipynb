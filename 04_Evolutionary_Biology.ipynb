{
 "cells": [
  {
   "cell_type": "markdown",
   "metadata": {},
   "source": [
    "Molecular phylogenetics (evolutionary biology) applications\n",
    "The Hadamard transform can be used to estimate phylogenetic trees from molecular data.[5][6][7] Phylogenetics is the subfield of evolutionary biology focused on understanding the relationships among organisms. A Hadamard transform applied to a vector (or matrix) of site pattern frequencies obtained from a DNA multiple sequence alignment can be used to generate another vector that carries information about the tree topology. The invertible nature of the phylogenetic Hadamard transform also allows the calculation of site likelihoods from a tree topology vector, allowing one to use the Hadamard transform for maximum likelihood estimation of phylogenetic trees. However, the latter application is less useful than the transformation from the site pattern vector to the tree vector because there are other ways to calculate site likelihoods[8][9] that are much more efficient. However, the invertible nature of the phylogenetic Hadamard transform does provide an elegant tool for mathematic phylogenetics.[10][11]\n",
    "\n",
    "The mechanics of the phylogenetic Hadamard transform involve the calculation of a vector {\\displaystyle \\gamma (T)}{\\displaystyle \\gamma (T)} that provides information about the topology and branch lengths for tree {\\displaystyle T}T using the site pattern vector or matrix {\\displaystyle s(T)}{\\displaystyle s(T)}.\n",
    "\n",
    "{\\displaystyle \\gamma (T)=H^{-1}(\\ln(Hs(T)))}{\\displaystyle \\gamma (T)=H^{-1}(\\ln(Hs(T)))}\n",
    "where {\\displaystyle H}H is the Hadamard matrix of the appropriate size. This equation can be rewritten as a series of three equations to simplify its interpretation:\n",
    "{\\displaystyle {\\begin{aligned}r&=Hs(T)\\\\\\rho &=\\ln r\\\\\\gamma (T)&=H^{-1}\\rho \\end{aligned}}}{\\displaystyle {\\begin{aligned}r&=Hs(T)\\\\\\rho &=\\ln r\\\\\\gamma (T)&=H^{-1}\\rho \\end{aligned}}}\n",
    "The invertible nature of this equation allows one to calculate an expected site pattern vector (or matrix) as follows:\n",
    "\n",
    "{\\displaystyle s(T)=H^{-1}(\\exp(H\\gamma (T)))}{\\displaystyle s(T)=H^{-1}(\\exp(H\\gamma (T)))}\n",
    "We can use the Cavender–Farris–Neyman (CFN) two-state substitution model for DNA by encoding the nucleotides as binary characters (the purines A and G are encoded as R and the pyrimidines C and T are encoded as Y). This makes it possible to encode the multiple sequence alignment as the site pattern vector {\\displaystyle s(T)}{\\displaystyle s(T)} that can be converted to a tree vector {\\displaystyle \\gamma (T)}{\\displaystyle \\gamma (T)}, as shown in the following example:\n",
    "\n",
    "Example showing the Hadamard transform for a specific tree (values for worked example adapted from Waddell et al. 1997[12])\n",
    "Index\tBinary pattern\tAlignment patterns\t{\\displaystyle \\gamma (T)}{\\displaystyle \\gamma (T)}\t{\\displaystyle \\rho =H^{-1}\\gamma (T)}{\\displaystyle \\rho =H^{-1}\\gamma (T)}\t{\\displaystyle r=\\exp(\\rho )}{\\displaystyle r=\\exp(\\rho )}\t{\\displaystyle s(T)=H^{-1}\\rho }{\\displaystyle s(T)=H^{-1}\\rho }\n",
    "0\t0000\tRRRR and YYYY\t−0.475\t0\t1\t0.6479\n",
    "1\t0001\tRRRY and YYYR\t0.2\t−0.5\t0.6065\t0.1283\n",
    "2\t0010\tRRYR and YYRY\t0.025\t−0.15\t0.8607\t0.02\n",
    "3*\t0011\tRRYY and YYRR\t0.025\t−0.45\t0.6376\t0.0226\n",
    "4\t0100\tRYRR and YRYY\t0.2\t−0.45\t0.6376\t0.1283\n",
    "5*\t0101\tRYRY and YRYR\t0\t−0.85\t0.4274\t0.0258\n",
    "6*\t0110\tRYYR and YRRY\t0\t−0.5\t0.6065\t0.0070\n",
    "7\t0111\tRYYY and YRRR\t0.025\t−0.9\t0.4066\t0.02\n",
    "The example shown in this table uses the simplified three equation scheme and it is for a four taxon tree that can be written as ((A,B),(C,D)); in newick format. The site patterns are written in the order ABCD. This particular tree has two long terminal branches (0.2 transversion substitutions per site), two short terminal branches (0.025 transversion substitutions per site), and a short internal branch (0.025 transversion substitutions per site); thus, it would be written as ((A:0.025,B:0.2):0.025,(C:0.025,D:0.2)); in newick format. This tree will exhibit long branch attraction if the data are analyzed using the maximum parsimony criterion (assuming the sequence analyzed is long enough for the observed site pattern frequencies to be close to the expected frequencies shown in the {\\displaystyle s(T)=H^{-1}\\rho }{\\displaystyle s(T)=H^{-1}\\rho } column). The long branch attraction reflects the fact that the expected number of site patterns with index 6 -- which support the tree ((A,C),(B,D)); -- exceed the expected number of site patterns that support the true tree (index 4). Obviously, the invertible nature of the phylogenetic Hadamard transform means that the tree vector means that the tree vector {\\displaystyle \\gamma (T)}{\\displaystyle \\gamma (T)} corresponds to the correct tree. Parsimony analysis after the transformation is therefore statistically consistent,[13] as would be a standard maximum likelihood analysis using the correct model (in this case the CFN model).\n",
    "\n",
    "Note that the site pattern with 0 corresponds to the sites that have not changed (after encoding the nucleotides as purines or pyrimidines). The indices with asterisks (3, 5, and 6) are \"parsimony-informative\", and. the remaining indices represent site patterns where a single taxon differs from the other three taxa (so they are the equivalent of terminal branch lengths in a standard maximum likelihood phylogenetic tree).\n",
    "\n",
    "If one wishes to use nucleotide data without recoding as R and Y (and ultimately as 0 and 1) it is possible to encode the site patterns as a matrix. If we consider a four-taxon tree there are a total of 256 site patterns (four nucleotides to the 4th power). However, symmetries of the Kimura three-parameter (or K81) model allow us to reduce the 256 possible site patterns for DNA to 64 patterns, making it possible to encode the nucleotide data for a four-taxon tree as an 8 × 8 matrix[14] in a manner similar to the vector of 8 elements used above for transversion (RY) site patterns. This is accomplished by recoding the data using the Klein four-group:\n",
    "\n",
    "Klein four-group coding for phylogenetic Hadamard transform\n",
    "Nucleotide 1\tNucleotide 2\tNucleotide 3\tNucleotide 4\n",
    "A (0,0)\tG (1,0)\tC (0,1)\tT (1,1)\n",
    "C (0,0)\tT (1,0)\tA (0,1)\tG (1,1)\n",
    "G (0,0)\tA (1,0)\tT (0,1)\tC (1,1)\n",
    "T (0,0)\tC (1,0)\tG (0,1)\tA (1,1)\n",
    "As with RY data, site patterns are indexed relative to the base in the arbitrarily chosen first taxon with the bases in the subsequent taxa encoded relative to that first base. Thus, the first taxon receives the bit pair (0,0). Using those bit pairs one can produce two vectors similar to the RY vectors and then populate the matrix using those vectors. This can be illustrated using the example from Hendy et al. (1994),[14] which is based on a multiple sequence alignment of four primate hemoglobin pseudogenes:\n",
    "\n",
    "Example of encoded sequence alignment (from Hendy et al. 1994[14]) (values are counts out of 9879 sites)\n",
    "0\t8\t16\t24\t32\t40\t48\t56\n",
    "0\t8988\t9\t10\t12\t24\t\t\t90\n",
    "1\t41\t9\t\t**\t\t\t\t\n",
    "2\t45\t\t13\t\t\t\t\t\n",
    "3\t54*\t\t\t14\t\t\t\t3\n",
    "4\t94\t\t\t\t20\t\t\t\n",
    "5\t\t\t1\t\t\t\t\t\n",
    "6\t2\t\t\t\t2\t\t\t\n",
    "7\t356\t\t1\t\t1\t\t\t75\n",
    "The much larger number of site patterns in column 0 reflects the fact that column 0 corresponds to transition differences, which accumulate more rapidly than transversion differences in virtually all comparisons of genomic regions (and definitely accumulate more rapidly in the hemoglobin pseudogenes used for this worked example[15]). If we consider the site pattern AAGG it would to binary pattern 0000 for the second element of the Klein group bit pair and 0011 for the first element. in this case binary pattern based on the first element first element corresponds to index 3 (so row 3 in column 0; indicated with a single asterisk in the table). The site patterns GGAA, CCTT, and TTCC would be encoded in the exact same way. The site pattern AACT would be encoded with binary pattern 0011 based on the second element and 0001 based on the first element; this yields index 1 for the first element and index 3 for the second. The index based on the second Klein group bit pair is multiplied by 8 to yield the column index (in this case it would be column 24) The cell that would include the count of AACT site patterns is indicated with two asterisks; however, the absence of a number in the example indicates that the sequence alignment include no AACT site patterns (likewise, CCAG, GGTC, and TTGA site patterns, which would be encoded in the same way, are absent)."
   ]
  },
  {
   "cell_type": "code",
   "execution_count": null,
   "metadata": {},
   "outputs": [],
   "source": []
  }
 ],
 "metadata": {
  "kernelspec": {
   "display_name": "mlp_venv",
   "language": "python",
   "name": "mlp_venv"
  },
  "language_info": {
   "codemirror_mode": {
    "name": "ipython",
    "version": 3
   },
   "file_extension": ".py",
   "mimetype": "text/x-python",
   "name": "python",
   "nbconvert_exporter": "python",
   "pygments_lexer": "ipython3",
   "version": "3.8.5"
  }
 },
 "nbformat": 4,
 "nbformat_minor": 4
}
