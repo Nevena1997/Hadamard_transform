{
 "cells": [
  {
   "cell_type": "markdown",
   "metadata": {},
   "source": [
    "In computational mathematics, the Hadamard ordered fast Walsh–Hadamard transform (FWHTh) is an efficient algorithm to compute the Walsh–Hadamard transform (WHT). A naive implementation of the WHT of order {\\displaystyle n=2^{m}}n=2^{m} would have a computational complexity of O({\\displaystyle n^{2}}n^{2}). The FWHTh requires only {\\displaystyle n\\log n}n\\log n additions or subtractions.\n",
    "\n",
    "The FWHTh is a divide-and-conquer algorithm that recursively breaks down a WHT of size {\\displaystyle n}n into two smaller WHTs of size {\\displaystyle n/2}n/2. [1] This implementation follows the recursive definition of the {\\displaystyle 2^{m}\\times 2^{m}}{\\displaystyle 2^{m}\\times 2^{m}} Hadamard matrix {\\displaystyle H_{m}}H_{m}:\n",
    "\n",
    "{\\displaystyle H_{m}={\\frac {1}{\\sqrt {2}}}{\\begin{pmatrix}H_{m-1}&H_{m-1}\\\\H_{m-1}&-H_{m-1}\\end{pmatrix}}.}{\\displaystyle H_{m}={\\frac {1}{\\sqrt {2}}}{\\begin{pmatrix}H_{m-1}&H_{m-1}\\\\H_{m-1}&-H_{m-1}\\end{pmatrix}}.}\n",
    "The {\\displaystyle 1/{\\sqrt {2}}}1/{\\sqrt {2}} normalization factors for each stage may be grouped together or even omitted.\n",
    "\n",
    "The sequency-ordered, also known as Walsh-ordered, fast Walsh–Hadamard transform, FWHTw, is obtained by computing the FWHTh as above, and then rearranging the outputs.\n",
    "\n",
    "A simple fast nonrecursive implementation of the Walsh–Hadamard transform follows from decomposition of the Hadamard transform matrix as {\\displaystyle H_{m}=A^{m}}{\\displaystyle H_{m}=A^{m}}, where A is m-th root of {\\displaystyle H_{m}}H_{m}. [2]"
   ]
  },
  {
   "cell_type": "code",
   "execution_count": null,
   "metadata": {},
   "outputs": [],
   "source": []
  },
  {
   "cell_type": "code",
   "execution_count": null,
   "metadata": {},
   "outputs": [],
   "source": []
  },
  {
   "cell_type": "code",
   "execution_count": 1,
   "metadata": {},
   "outputs": [],
   "source": [
    "def fwht(a) -> None:\n",
    "    '''In-place Fast Walsh–Hadamard Transform of array a.'''\n",
    "    h = 1\n",
    "    while h < len(a):\n",
    "        # perform FWHT\n",
    "        for i in range(0, len(a), h * 2):\n",
    "            for j in range(i, i + h):\n",
    "                x = a[j]\n",
    "                y = a[j + h]\n",
    "                a[j] = x + y\n",
    "                a[j + h] = x - y\n",
    "        # normalize and increment\n",
    "        a /= 2\n",
    "        h *= 2"
   ]
  },
  {
   "cell_type": "code",
   "execution_count": null,
   "metadata": {},
   "outputs": [],
   "source": []
  }
 ],
 "metadata": {
  "kernelspec": {
   "display_name": "Python 3",
   "language": "python",
   "name": "python3"
  },
  "language_info": {
   "codemirror_mode": {
    "name": "ipython",
    "version": 3
   },
   "file_extension": ".py",
   "mimetype": "text/x-python",
   "name": "python",
   "nbconvert_exporter": "python",
   "pygments_lexer": "ipython3",
   "version": "3.8.5"
  }
 },
 "nbformat": 4,
 "nbformat_minor": 4
}
