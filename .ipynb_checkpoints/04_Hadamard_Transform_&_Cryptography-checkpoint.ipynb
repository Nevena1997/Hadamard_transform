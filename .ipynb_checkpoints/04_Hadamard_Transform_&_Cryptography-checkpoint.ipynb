{
 "cells": [
  {
   "cell_type": "markdown",
   "metadata": {},
   "source": [
    "#### Pseudo-Hadamard transformacija\n",
    "https://en.wikipedia.org/wiki/Pseudo-Hadamard_transform\n",
    "\n",
    "Pseudo-Hadamard transformacija je inverzibilna transformacija stringa bitova koja omogucava kriptografsku difuziju. String bitova mora biti parne duzine kako bi ga bilo moguce podeliti na dva stringa, $a$ i $b$, jednakih duzina $n$. Za izračunavanje transformacije, $a'$ i $b'$, koristimo jednačine:\n",
    "$$a'=a+b\\,{\\pmod {2^{n}}}$$\n",
    "$$ b'=a+2b\\,{\\pmod {2^{n}}}$$\n",
    "\n",
    "Inverz ovoga je,\n",
    "$$b=b'-a'\\,{\\pmod {2^{n}}}$$\n",
    "$$a=2a'-b'\\,{\\pmod {2^{n}}}$$\n",
    "\n",
    "Gornje jednačine mogu biti prikazane matricom, posmatrajući a i b kao dva elementa vektora i transformaciju kao množenje matricom oblika:\n",
    "$$ H_{1}=\\begin{pmatrix}2&1\\\\1&1\\end{pmatrix}$$\n",
    "\n",
    "Inverz se moze dobiti invertovanjem matrice.\n",
    "Matrica moze biti generalizovana na više dimenzije, dozvoljavajući vektorima bilo kog stepena dvojke da budu transformisani, koristeći sledeće rekurzivno pravilo:\n",
    "$$H_{n}=\\begin{pmatrix}2\\times H_{n-1}&H_{n-1}\\\\H_{n-1}&H_{n-1}\\end{pmatrix}$$\n",
    "\n",
    "Na primer:\n",
    "$$H_{2}=\\begin{pmatrix}4&2&2&1\\\\2&2&1&1\\\\2&1&2&1\\\\1&1&1&1\\end{pmatrix}$$"
   ]
  },
  {
   "cell_type": "code",
   "execution_count": null,
   "metadata": {},
   "outputs": [],
   "source": []
  }
 ],
 "metadata": {
  "kernelspec": {
   "display_name": "mlp_venv",
   "language": "python",
   "name": "mlp_venv"
  },
  "language_info": {
   "codemirror_mode": {
    "name": "ipython",
    "version": 3
   },
   "file_extension": ".py",
   "mimetype": "text/x-python",
   "name": "python",
   "nbconvert_exporter": "python",
   "pygments_lexer": "ipython3",
   "version": "3.8.5"
  }
 },
 "nbformat": 4,
 "nbformat_minor": 4
}
